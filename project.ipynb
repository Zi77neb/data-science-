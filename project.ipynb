{
  "metadata": {
    "kernelspec": {
      "name": "python",
      "display_name": "Python (Pyodide)",
      "language": "python"
    },
    "language_info": {
      "codemirror_mode": {
        "name": "python",
        "version": 3
      },
      "file_extension": ".py",
      "mimetype": "text/x-python",
      "name": "python",
      "nbconvert_exporter": "python",
      "pygments_lexer": "ipython3",
      "version": "3.8"
    }
  },
  "nbformat_minor": 4,
  "nbformat": 4,
  "cells": [
    {
      "cell_type": "code",
      "source": "# My JupyterLite Notebook Project\n",
      "metadata": {
        "trusted": true
      },
      "outputs": [],
      "execution_count": null
    },
    {
      "cell_type": "code",
      "source": "## Introduction\n\nWelcome to my JupyterLite Notebook project! In this notebook, we will explore various aspects of data science using JupyterLite, a lightweight and easy-to-share environment. From languages and libraries to tools and code examples, let's embark on a journey through the world of data science. Feel free to follow along and explore the content. Let's get started!\n",
      "metadata": {
        "trusted": true
      },
      "outputs": [],
      "execution_count": null
    },
    {
      "cell_type": "code",
      "source": "## Data Science Languages\n\n1. **Python**\n2. **R**\n3. **Julia**\n4. **SQL**\n\nThese languages form the foundation for data science tasks, offering diverse capabilities for data manipulation, analysis, and visualization.\n",
      "metadata": {
        "trusted": true
      },
      "outputs": [],
      "execution_count": null
    },
    {
      "cell_type": "code",
      "source": "## Data Science Libraries\n\nSome popular libraries used in data science include:\n\n- **Pandas**: Data manipulation and analysis in Python.\n- **NumPy**: Numerical computing in Python.\n- **Matplotlib**: Data visualization in Python.\n- **Seaborn**: Statistical data visualization based on Matplotlib.\n- **Scikit-learn**: Machine learning library for Python.\n- **TensorFlow**: Open-source machine learning framework.\n- **PyTorch**: Deep learning library.\n\nThese libraries provide powerful tools for data exploration, analysis, and machine learning tasks.\n",
      "metadata": {
        "trusted": true
      },
      "outputs": [],
      "execution_count": null
    },
    {
      "cell_type": "code",
      "source": "## Data Science Tools\n\n| Language   | Libraries                    | Tools                 |\n|------------|------------------------------|-----------------------|\n| Python     | Pandas, NumPy, Matplotlib    | Jupyter, Spyder       |\n| R          | dplyr, ggplot2               | RStudio               |\n| SQL        | -                            | MySQL Workbench       |\n| Julia      | DataFrames.jl, Plots.jl      | Jupyter               |\n",
      "metadata": {
        "trusted": true
      },
      "outputs": [],
      "execution_count": null
    },
    {
      "cell_type": "code",
      "source": "\n# Addition\nresult_addition = 2 + 3\nprint(\"1. Addition :\", result_addition)\n\n# Multiplication\nresult_multiplication = 4 * 5\nprint(\"2. Multiplication :\", result_multiplication)\n\n# Division\nresult_division = 10 / 2\nprint(\"3. Division :\", result_division)\n",
      "metadata": {
        "trusted": true
      },
      "outputs": [],
      "execution_count": null
    },
    {
      "cell_type": "code",
      "source": "# Exercice 8 - Multiplication et Addition de Nombres\n\n# Multiplication\nresult_multiply = 4 * 6\n\n# Addition\nresult_addition = 10 + 7\n\nprint(\"Résultat de la multiplication :\", result_multiply)\nprint(\"Résultat de l'addition :\", result_addition)\n",
      "metadata": {
        "trusted": true
      },
      "outputs": [],
      "execution_count": null
    },
    {
      "cell_type": "code",
      "source": "# Exercice 9 - Conversion des Minutes en Heures\n\n# Fonction de conversion\ndef minutes_to_hours(minutes):\n    return minutes / 60\n\n# Exemple\ntotal_minutes = 120\nhours_result = minutes_to_hours(total_minutes)\n\nprint(f\"{total_minutes} minutes équivalent à {hours_result} heures.\")\n",
      "metadata": {
        "trusted": true
      },
      "outputs": [],
      "execution_count": null
    },
    {
      "cell_type": "code",
      "source": "## Objectifs\n\n- Comprendre les fondamentaux de la science des données.\n- Manipuler des données avec les langages et bibliothèques associés.\n- Appliquer des opérations arithmétiques et conversions.\n",
      "metadata": {
        "trusted": true
      },
      "outputs": [],
      "execution_count": null
    },
    {
      "cell_type": "code",
      "source": "## Auteur\n\nCet ensemble d'exercices a été créé par [Bekkali Zineb].\n",
      "metadata": {
        "trusted": true
      },
      "outputs": [],
      "execution_count": null
    },
    {
      "cell_type": "code",
      "source": "",
      "metadata": {
        "trusted": true
      },
      "outputs": [],
      "execution_count": null
    }
  ]
}